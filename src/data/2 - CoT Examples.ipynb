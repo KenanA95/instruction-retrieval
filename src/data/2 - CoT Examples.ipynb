{
 "cells": [
  {
   "cell_type": "code",
   "execution_count": 1,
   "metadata": {},
   "outputs": [],
   "source": [
    "import os\n",
    "import pandas as pd\n",
    "import random\n",
    "from pathlib import Path\n",
    "from openai import OpenAI\n",
    "from dotenv import load_dotenv\n",
    "from tqdm import tqdm\n",
    "import time"
   ]
  },
  {
   "cell_type": "markdown",
   "metadata": {},
   "source": [
    "### Sample problems for CoT"
   ]
  },
  {
   "cell_type": "markdown",
   "metadata": {},
   "source": [
    "**Load in the data**"
   ]
  },
  {
   "cell_type": "code",
   "execution_count": 2,
   "metadata": {},
   "outputs": [
    {
     "name": "stdout",
     "output_type": "stream",
     "text": [
      "Loaded 560000 examples from 10k dataset\n",
      "Loaded 300 examples from MVP dataset\n",
      "Found 56 unique topics\n"
     ]
    }
   ],
   "source": [
    "# Define paths\n",
    "base_dir = \"/shared/3/projects/instruction-retrieval/mathematics_dataset/processed\"\n",
    "easy_10k_path = os.path.join(base_dir, 'easy_10000.tsv')\n",
    "mvp_path = os.path.join(base_dir, 'mvp.tsv')\n",
    "\n",
    "# Load datasets\n",
    "df_10k = pd.read_csv(easy_10k_path, sep='\\t')\n",
    "df_mvp = pd.read_csv(mvp_path, sep='\\t')\n",
    "\n",
    "print(f\"Loaded {len(df_10k)} examples from 10k dataset\")\n",
    "print(f\"Loaded {len(df_mvp)} examples from MVP dataset\")\n",
    "\n",
    "# Get unique topics from the 10k dataset\n",
    "topics = df_10k['topic'].unique()\n",
    "print(f\"Found {len(topics)} unique topics\")\n",
    "\n",
    "selected_topics = [\n",
    "    'algebra__polynomial_roots_composed', \n",
    "    'calculus__differentiate_composed', \n",
    "    'numbers__list_prime_factors_composed'\n",
    "]\n",
    "\n",
    "# Create a set of (question, answer) tuples from the MVP dataset for fast lookup\n",
    "mvp_set = set(zip(df_mvp['question'], df_mvp['answer']))"
   ]
  },
  {
   "cell_type": "code",
   "execution_count": 3,
   "metadata": {},
   "outputs": [
    {
     "name": "stdout",
     "output_type": "stream",
     "text": [
      "Sampled 10 examples from algebra__polynomial_roots_composed\n",
      "Sampled 10 examples from calculus__differentiate_composed\n",
      "Sampled 10 examples from numbers__list_prime_factors_composed\n",
      "\n",
      "Total sampled problems: 30\n"
     ]
    }
   ],
   "source": [
    "sampled_problems = {}\n",
    "\n",
    "# Sample 10 problems from each selected topic\n",
    "for topic in selected_topics:\n",
    "    # Filter source dataframe for the current topic\n",
    "    topic_df = df_10k[df_10k['topic'] == topic]\n",
    "    \n",
    "    # Filter out problems that exist in the MVP dataset\n",
    "    filtered_df = topic_df[~topic_df.apply(lambda row: (row['question'], row['answer']) in mvp_set, axis=1)]\n",
    "    \n",
    "    # Sample from the filtered problems\n",
    "    sampled = filtered_df.sample(10, random_state=42)\n",
    "    sampled_problems[topic] = sampled\n",
    "    print(f\"Sampled 10 examples from {topic}\")\n",
    "\n",
    "sampled_df = pd.concat(sampled_problems.values(), ignore_index=True)\n",
    "print(f\"\\nTotal sampled problems: {len(sampled_df)}\")"
   ]
  },
  {
   "cell_type": "code",
   "execution_count": 4,
   "metadata": {},
   "outputs": [
    {
     "name": "stdout",
     "output_type": "stream",
     "text": [
      "Saved 30 examples to /shared/3/projects/instruction-retrieval/mathematics_dataset/processed/cot_examples.tsv\n"
     ]
    }
   ],
   "source": [
    "output_file = os.path.join(base_dir, \"cot_examples.tsv\")\n",
    "sampled_df.to_csv(output_file, sep='\\t', index=False)\n",
    "print(f\"Saved {len(sampled_df)} examples to {output_file}\")"
   ]
  },
  {
   "cell_type": "markdown",
   "metadata": {},
   "source": [
    "### Generate CoT"
   ]
  },
  {
   "cell_type": "code",
   "execution_count": 7,
   "metadata": {},
   "outputs": [],
   "source": [
    "dotenv_path = Path(\"/home/kalkiek/projects/instruction-retrieval/.env\")\n",
    "load_dotenv(dotenv_path=dotenv_path)\n",
    "api_key = os.environ.get('OPEN_AI_KEY')\n",
    "client = OpenAI(api_key=os.environ.get('OPEN_AI_KEY'))"
   ]
  },
  {
   "cell_type": "code",
   "execution_count": 8,
   "metadata": {},
   "outputs": [
    {
     "name": "stdout",
     "output_type": "stream",
     "text": [
      "Loaded 30 problems for CoT generation\n"
     ]
    }
   ],
   "source": [
    "base_dir = \"/shared/3/projects/instruction-retrieval/mathematics_dataset/processed\"\n",
    "cot_examples_path = os.path.join(base_dir, 'cot_examples.tsv')\n",
    "\n",
    "# Load the sampled problems\n",
    "df_problems = pd.read_csv(cot_examples_path, sep='\\t')\n",
    "print(f\"Loaded {len(df_problems)} problems for CoT generation\")\n",
    "\n",
    "# Function to generate CoT response for a problem\n",
    "def generate_cot(question, answer, model=\"gpt-4o\"):\n",
    "    prompt = f\"Solve this math problem step by step:\\n\\nProblem: {question}\\n\\nThink step by step to find the answer.\"\n",
    "    \n",
    "    messages = [\n",
    "        {\"role\": \"system\", \"content\": \"You are a helpful math tutor. Provide clear step-by-step solutions to math problems.\"},\n",
    "        {\"role\": \"user\", \"content\": prompt}\n",
    "    ]\n",
    "    \n",
    "    try:\n",
    "        response = client.chat.completions.create(\n",
    "            model=model,\n",
    "            messages=messages,\n",
    "            temperature=0.2,\n",
    "            max_tokens=4096\n",
    "        )\n",
    "        return response.choices[0].message.content\n",
    "    except Exception as e:\n",
    "        print(f\"Error generating CoT: {e}\")\n",
    "        time.sleep(5)  # Wait before retrying\n",
    "        return f\"Error: {str(e)}\""
   ]
  },
  {
   "cell_type": "code",
   "execution_count": 10,
   "metadata": {},
   "outputs": [
    {
     "name": "stderr",
     "output_type": "stream",
     "text": [
      "Generating CoT solutions:   0%|                                                                                                            | 0/30 [00:00<?, ?it/s]"
     ]
    },
    {
     "name": "stderr",
     "output_type": "stream",
     "text": [
      "Generating CoT solutions:  13%|█████████████▎                                                                                      | 4/30 [01:45<11:04, 25.56s/it]"
     ]
    },
    {
     "name": "stdout",
     "output_type": "stream",
     "text": [
      "Saved progress after 5 examples\n"
     ]
    },
    {
     "name": "stderr",
     "output_type": "stream",
     "text": [
      "Generating CoT solutions:  30%|██████████████████████████████                                                                      | 9/30 [04:36<11:48, 33.75s/it]"
     ]
    },
    {
     "name": "stdout",
     "output_type": "stream",
     "text": [
      "Saved progress after 10 examples\n"
     ]
    },
    {
     "name": "stderr",
     "output_type": "stream",
     "text": [
      "Generating CoT solutions:  47%|██████████████████████████████████████████████▏                                                    | 14/30 [05:55<04:57, 18.58s/it]"
     ]
    },
    {
     "name": "stdout",
     "output_type": "stream",
     "text": [
      "Saved progress after 15 examples\n"
     ]
    },
    {
     "name": "stderr",
     "output_type": "stream",
     "text": [
      "Generating CoT solutions:  63%|██████████████████████████████████████████████████████████████▋                                    | 19/30 [07:21<03:23, 18.52s/it]"
     ]
    },
    {
     "name": "stdout",
     "output_type": "stream",
     "text": [
      "Saved progress after 20 examples\n"
     ]
    },
    {
     "name": "stderr",
     "output_type": "stream",
     "text": [
      "Generating CoT solutions:  80%|███████████████████████████████████████████████████████████████████████████████▏                   | 24/30 [08:18<01:18, 13.12s/it]"
     ]
    },
    {
     "name": "stdout",
     "output_type": "stream",
     "text": [
      "Saved progress after 25 examples\n"
     ]
    },
    {
     "name": "stderr",
     "output_type": "stream",
     "text": [
      "Generating CoT solutions:  97%|███████████████████████████████████████████████████████████████████████████████████████████████▋   | 29/30 [09:28<00:12, 12.91s/it]"
     ]
    },
    {
     "name": "stdout",
     "output_type": "stream",
     "text": [
      "Saved progress after 30 examples\n"
     ]
    },
    {
     "name": "stderr",
     "output_type": "stream",
     "text": [
      "Generating CoT solutions: 100%|███████████████████████████████████████████████████████████████████████████████████████████████████| 30/30 [09:44<00:00, 19.48s/it]"
     ]
    },
    {
     "name": "stdout",
     "output_type": "stream",
     "text": [
      "Completed CoT generation for 30 problems\n",
      "\n",
      "--- Example from algebra__polynomial_roots_composed ---\n",
      "Question: Factor o**3 + 15/4*o**2 - 1 + 3*o.\n",
      "CoT Solution:\n",
      "To factor the expression \\( o^3 + \\frac{15}{4}o^2 - 1 + 3o \\), we will follow these steps:\n",
      "\n",
      "### Step 1: Rearrange the Terms\n",
      "First, let's rearrange the terms in descending order of the powers of \\( o \\):\n",
      "\n",
      "\\[ o^3 + \\frac{15}{4}o^2 + 3o - 1 \\]\n",
      "\n",
      "### Step 2: Group Terms\n",
      "Next, we will try to group the terms in a way that might make factoring easier. Let's group the first two terms and the last two terms:\n",
      "\n",
      "\\[ (o^3 + \\frac{15}{4}o^2) + (3o - 1) \\]\n",
      "\n",
      "### Step 3: Factor by Grouping\n",
      "Now, we will factor out the greatest common factor from each group:\n",
      "\n",
      "- From the first group \\( o^3 + \\frac{15}{4}o^2 \\), we can factor out \\( o^2 \\):\n",
      "\n",
      "  \\[ o^2(o + \\frac{15}{4}) \\]\n",
      "\n",
      "- From the second group \\( 3o - 1 \\), there is no common factor other than 1, so it remains as it is:\n",
      "\n",
      "  \\[ 3o - 1 \\]\n",
      "\n",
      "Now, our expression looks like this:\n",
      "\n",
      "\\[ o^2(o + \\frac{15}{4}) + (3o - 1) \\]\n",
      "\n",
      "### Step 4: Look for a Common Binomial Factor\n",
      "At this point, we should look for a common binomial factor between the two groups. Unfortunately, there is no common binomial factor directly visible. \n",
      "\n",
      "### Step 5: Re-evaluate and Try Another Approach\n",
      "Since direct factoring by grouping didn't yield a common factor, let's try another approach. We can attempt to factor the expression by finding roots or using synthetic division, but first, let's check if simple rational roots exist using the Rational Root Theorem.\n",
      "\n",
      "### Step 6: Rational Root Theorem\n",
      "The Rational Root Theorem suggests that any rational root, \\( p/q \\), of a polynomial with integer coefficients is such that \\( p \\) divides the constant term and \\( q \\) divides the leading coefficient. However, since we have a fraction in the coefficients, this theorem is not directly applicable without clearing fractions.\n",
      "\n",
      "### Step 7: Clear Fractions\n",
      "Multiply the entire expression by 4 to clear the fraction:\n",
      "\n",
      "\\[ 4(o^3) + 15o^2 + 12o - 4 \\]\n",
      "\n",
      "### Step 8: Factor the New Expression\n",
      "Now, let's try factoring this new expression:\n",
      "\n",
      "\\[ 4o^3 + 15o^2 + 12o - 4 \\]\n",
      "\n",
      "We can attempt synthetic division or trial and error with possible rational roots, but let's first check if simple roots like \\( o = 1, -1, 2, -2 \\) work.\n",
      "\n",
      "### Step 9: Check for Simple Roots\n",
      "Let's try \\( o = 1 \\):\n",
      "\n",
      "\\[ 4(1)^3 + 15(1)^2 + 12(1) - 4 = 4 + 15 + 12 - 4 = 27 \\neq 0 \\]\n",
      "\n",
      "Now, try \\( o = -1 \\):\n",
      "\n",
      "\\[ 4(-1)^3 + 15(-1)^2 + 12(-1) - 4 = -4 + 15 - 12 - 4 = -5 \\neq 0 \\]\n",
      "\n",
      "Try \\( o = 2 \\):\n",
      "\n",
      "\\[ 4(2)^3 + 15(2)^2 + 12(2) - 4 = 32 + 60 + 24 - 4 = 112 \\neq 0 \\]\n",
      "\n",
      "Try \\( o = -2 \\):\n",
      "\n",
      "\\[ 4(-2)^3 + 15(-2)^2 + 12(-2) - 4 = -32 + 60 - 24 - 4 = 0 \\]\n",
      "\n",
      "### Step 10: Factor Using the Root\n",
      "Since \\( o = -2 \\) is a root, we can factor \\( o + 2 \\) out of the polynomial. Use synthetic division to divide \\( 4o^3 + 15o^2 + 12o - 4 \\) by \\( o + 2 \\):\n",
      "\n",
      "Perform synthetic division:\n",
      "\n",
      "```\n",
      "-2 |  4   15   12   -4\n",
      "   |      -8  -14   4\n",
      "   -------------------\n",
      "     4    7   -2    0\n",
      "```\n",
      "\n",
      "The quotient is \\( 4o^2 + 7o - 2 \\).\n",
      "\n",
      "### Step 11: Factor the Quadratic\n",
      "Now, factor \\( 4o^2 + 7o - 2 \\):\n",
      "\n",
      "The factors of \\( 4 \\times -2 = -8 \\) that add up to \\( 7 \\) are \\( 8 \\) and \\( -1 \\).\n",
      "\n",
      "Rewrite the middle term:\n",
      "\n",
      "\\[ 4o^2 + 8o - o - 2 \\]\n",
      "\n",
      "Group and factor:\n",
      "\n",
      "\\[ (4o^2 + 8o) - (o + 2) \\]\n",
      "\n",
      "Factor out common terms:\n",
      "\n",
      "\\[ 4o(o + 2) - 1(o + 2) \\]\n",
      "\n",
      "Factor by grouping:\n",
      "\n",
      "\\[ (4o - 1)(o + 2) \\]\n",
      "\n",
      "### Step 12: Combine the Factors\n",
      "The original polynomial \\( 4o^3 + 15o^2 + 12o - 4 \\) factors to:\n",
      "\n",
      "\\[ (o + 2)(4o - 1)(o + 2) \\]\n",
      "\n",
      "Since we multiplied by 4 earlier, divide by 4 to get the factorization of the original expression:\n",
      "\n",
      "\\[ \\frac{1}{4}(o + 2)^2(4o - 1) \\]\n",
      "\n",
      "Thus, the factorization of the original expression \\( o^3 + \\frac{15}{4}o^2 + 3o - 1 \\) is:\n",
      "\n",
      "\\[ (o + 2)^2(4o - 1) \\]\n",
      "\n",
      "This is the fully factored form of the expression.\n",
      "Correct Answer: (o + 2)**2*(4*o - 1)/4\n",
      "--------------------------------------------------------------------------------\n",
      "\n",
      "--- Example from calculus__differentiate_composed ---\n",
      "Question: Let u(q) = -16*q**2 + 29*q - 6. Let v(p) = 16*p**2 - 28*p + 5. Let s(r) = -5*u(r) - 6*v(r). Find the second derivative of s(a) wrt a.\n",
      "CoT Solution:\n",
      "To solve this problem, we need to find the second derivative of the function \\( s(a) \\) with respect to \\( a \\). Let's break down the problem step by step:\n",
      "\n",
      "### Step 1: Understand the Functions\n",
      "\n",
      "We are given three functions:\n",
      "1. \\( u(q) = -16q^2 + 29q - 6 \\)\n",
      "2. \\( v(p) = 16p^2 - 28p + 5 \\)\n",
      "3. \\( s(r) = -5u(r) - 6v(r) \\)\n",
      "\n",
      "### Step 2: Substitute \\( u(r) \\) and \\( v(r) \\) into \\( s(r) \\)\n",
      "\n",
      "Substitute \\( u(r) \\) and \\( v(r) \\) into the expression for \\( s(r) \\):\n",
      "\n",
      "\\[\n",
      "s(r) = -5(-16r^2 + 29r - 6) - 6(16r^2 - 28r + 5)\n",
      "\\]\n",
      "\n",
      "### Step 3: Simplify \\( s(r) \\)\n",
      "\n",
      "First, distribute the constants \\(-5\\) and \\(-6\\):\n",
      "\n",
      "\\[\n",
      "s(r) = (80r^2 - 145r + 30) - (96r^2 - 168r + 30)\n",
      "\\]\n",
      "\n",
      "Combine like terms:\n",
      "\n",
      "- For \\( r^2 \\): \\( 80r^2 - 96r^2 = -16r^2 \\)\n",
      "- For \\( r \\): \\(-145r + 168r = 23r \\)\n",
      "- For the constant term: \\( 30 - 30 = 0 \\)\n",
      "\n",
      "Thus, the simplified form of \\( s(r) \\) is:\n",
      "\n",
      "\\[\n",
      "s(r) = -16r^2 + 23r\n",
      "\\]\n",
      "\n",
      "### Step 4: Find the First Derivative \\( s'(r) \\)\n",
      "\n",
      "Differentiate \\( s(r) = -16r^2 + 23r \\) with respect to \\( r \\):\n",
      "\n",
      "\\[\n",
      "s'(r) = \\frac{d}{dr}(-16r^2 + 23r) = -32r + 23\n",
      "\\]\n",
      "\n",
      "### Step 5: Find the Second Derivative \\( s''(r) \\)\n",
      "\n",
      "Differentiate \\( s'(r) = -32r + 23 \\) with respect to \\( r \\):\n",
      "\n",
      "\\[\n",
      "s''(r) = \\frac{d}{dr}(-32r + 23) = -32\n",
      "\\]\n",
      "\n",
      "### Conclusion\n",
      "\n",
      "The second derivative of \\( s(a) \\) with respect to \\( a \\) is:\n",
      "\n",
      "\\[\n",
      "s''(a) = -32\n",
      "\\]\n",
      "\n",
      "This is a constant value, indicating that the rate of change of the slope of \\( s(a) \\) is constant.\n",
      "Correct Answer: -32\n",
      "--------------------------------------------------------------------------------\n",
      "\n",
      "--- Example from numbers__list_prime_factors_composed ---\n",
      "Question: What are the prime factors of (3/(-6)*-122)/1?\n",
      "CoT Solution:\n",
      "To solve the problem and find the prime factors of \\((3/(-6) \\times -122)/1\\), let's break it down step by step:\n",
      "\n",
      "### Step 1: Simplify the Expression\n",
      "\n",
      "1. **Simplify the Fraction \\(\\frac{3}{-6}\\):**\n",
      "\n",
      "   \\[\n",
      "   \\frac{3}{-6} = \\frac{1}{-2} = -\\frac{1}{2}\n",
      "   \\]\n",
      "\n",
      "2. **Multiply by \\(-122\\):**\n",
      "\n",
      "   \\[\n",
      "   -\\frac{1}{2} \\times -122 = \\frac{122}{2}\n",
      "   \\]\n",
      "\n",
      "   Since multiplying two negative numbers results in a positive number, the negatives cancel out.\n",
      "\n",
      "3. **Simplify \\(\\frac{122}{2}\\):**\n",
      "\n",
      "   \\[\n",
      "   \\frac{122}{2} = 61\n",
      "   \\]\n",
      "\n",
      "4. **Divide by 1:**\n",
      "\n",
      "   \\[\n",
      "   \\frac{61}{1} = 61\n",
      "   \\]\n",
      "\n",
      "### Step 2: Find the Prime Factors of 61\n",
      "\n",
      "Now that we have simplified the expression to 61, we need to determine its prime factors.\n",
      "\n",
      "1. **Check if 61 is a Prime Number:**\n",
      "\n",
      "   A prime number is a number greater than 1 that has no positive divisors other than 1 and itself. To check if 61 is prime, we need to test divisibility by prime numbers less than or equal to the square root of 61.\n",
      "\n",
      "   - The square root of 61 is approximately 7.81, so we check divisibility by the prime numbers 2, 3, 5, and 7.\n",
      "\n",
      "   - **Divisibility by 2:** 61 is odd, so it is not divisible by 2.\n",
      "   - **Divisibility by 3:** The sum of the digits of 61 is \\(6 + 1 = 7\\), which is not divisible by 3.\n",
      "   - **Divisibility by 5:** 61 does not end in 0 or 5, so it is not divisible by 5.\n",
      "   - **Divisibility by 7:** Dividing 61 by 7 gives approximately 8.71, which is not an integer, so 61 is not divisible by 7.\n",
      "\n",
      "Since 61 is not divisible by any prime numbers up to its square root, 61 is a prime number.\n",
      "\n",
      "### Conclusion\n",
      "\n",
      "The prime factors of the expression \\((3/(-6) \\times -122)/1\\) are simply 61, as 61 is a prime number.\n",
      "Correct Answer: 61\n",
      "--------------------------------------------------------------------------------\n"
     ]
    },
    {
     "name": "stderr",
     "output_type": "stream",
     "text": [
      "\n"
     ]
    }
   ],
   "source": [
    "# Add a column for CoT responses\n",
    "df_problems['cot_solution'] = None\n",
    "\n",
    "# Generate CoT for each problem with progress bar\n",
    "for i, row in tqdm(df_problems.iterrows(), total=len(df_problems), desc=\"Generating CoT solutions\"):\n",
    "    # Generate CoT solution\n",
    "    cot = generate_cot(row['question'], row['answer'])\n",
    "    \n",
    "    # Update the dataframe\n",
    "    df_problems.at[i, 'cot_solution'] = cot\n",
    "    \n",
    "    # Save after each batch of 5 to avoid losing progress\n",
    "    if (i + 1) % 5 == 0:\n",
    "        df_problems.to_csv(os.path.join(base_dir, \"cot_examples_with_solutions.tsv\"), sep='\\t', index=False)\n",
    "        print(f\"Saved progress after {i+1} examples\")\n",
    "    \n",
    "    # Add a small delay to avoid rate limits\n",
    "    time.sleep(1)\n",
    "\n",
    "# Save the final results\n",
    "df_problems.to_csv(os.path.join(base_dir, \"cot_examples_with_solutions.tsv\"), sep='\\t', index=False)\n",
    "print(f\"Completed CoT generation for {len(df_problems)} problems\")\n",
    "\n",
    "# Display a few examples with their CoT solutions\n",
    "sample_indices = random.sample(range(len(df_problems)), min(3, len(df_problems)))\n",
    "for idx in sample_indices:\n",
    "    row = df_problems.iloc[idx]\n",
    "    print(f\"\\n--- Example from {row['topic']} ---\")\n",
    "    print(f\"Question: {row['question']}\")\n",
    "    print(f\"CoT Solution:\\n{row['cot_solution']}\")\n",
    "    print(f\"Correct Answer: {row['answer']}\")\n",
    "    print(\"-\" * 80)"
   ]
  }
 ],
 "metadata": {
  "kernelspec": {
   "display_name": "Python 3 (ipykernel)",
   "language": "python",
   "name": "python3"
  },
  "language_info": {
   "codemirror_mode": {
    "name": "ipython",
    "version": 3
   },
   "file_extension": ".py",
   "mimetype": "text/x-python",
   "name": "python",
   "nbconvert_exporter": "python",
   "pygments_lexer": "ipython3",
   "version": "3.12.7"
  }
 },
 "nbformat": 4,
 "nbformat_minor": 2
}
